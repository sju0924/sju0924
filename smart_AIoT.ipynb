{
  "nbformat": 4,
  "nbformat_minor": 0,
  "metadata": {
    "colab": {
      "provenance": [],
      "include_colab_link": true
    },
    "kernelspec": {
      "name": "python3",
      "display_name": "Python 3"
    },
    "language_info": {
      "name": "python"
    },
    "accelerator": "GPU",
    "gpuClass": "standard"
  },
  "cells": [
    {
      "cell_type": "markdown",
      "metadata": {
        "id": "view-in-github",
        "colab_type": "text"
      },
      "source": [
        "<a href=\"https://colab.research.google.com/github/sju0924/sju0924/blob/master/smart_AIoT.ipynb\" target=\"_parent\"><img src=\"https://colab.research.google.com/assets/colab-badge.svg\" alt=\"Open In Colab\"/></a>"
      ]
    },
    {
      "cell_type": "code",
      "execution_count": 4,
      "metadata": {
        "id": "3EHqbB4oqriu"
      },
      "outputs": [],
      "source": [
        "import torch\n",
        "import torch.nn as nn\n",
        "import torch.nn.functional as F\n",
        "import torch.optim as optim"
      ]
    },
    {
      "cell_type": "code",
      "source": [
        "# Define the NLP model as a PyTorch neural network\n",
        "class LEDControlModel(nn.Module):\n",
        "    def __init__(self, input_size, hidden_size, output_size, embedding_dim):\n",
        "        super(LEDControlModel, self).__init__()\n",
        "        self.embedding = nn.Embedding(input_size, embedding_dim)\n",
        "        self.fc1 = nn.Linear(input_size, hidden_size)\n",
        "        self.fc2 = nn.Linear(hidden_size, output_size)\n",
        "\n",
        "    def forward(self, input):\n",
        "        #embedding = self.embedding(input).view(1,-1)\n",
        "        #print(\"embedding: \", embedding.size())\n",
        "        hidden = F.relu(self.fc1(input))\n",
        "        output = self.fc2(hidden)\n",
        "        return output"
      ],
      "metadata": {
        "id": "VPySA06-quFw"
      },
      "execution_count": 68,
      "outputs": []
    },
    {
      "cell_type": "code",
      "source": [
        "# Initialize the NLP model\n",
        "input_size = 20  # number of words in vocabulary\n",
        "embedding_dim = 5  # size of word embeddings\n",
        "hidden_size = 500\n",
        "output_size = 32  # number of possible LED states\n",
        "model = LEDControlModel(input_size, hidden_size, output_size, embedding_dim)\n",
        "\n",
        "# Define the loss function and optimizer\n",
        "criterion = nn.CrossEntropyLoss()\n",
        "optimizer = optim.SGD(model.parameters(), lr=0.01)"
      ],
      "metadata": {
        "id": "FA3rdjYSqxDf"
      },
      "execution_count": 69,
      "outputs": []
    },
    {
      "cell_type": "code",
      "source": [
        "# Train the NLP model on the input data\n",
        "input_data = [[\"turn\", \"on\", \"led\", \"number\", \"7\"], [\"turn\", \"off\", \"led\", \"number\", \"12\"], \n",
        "              [\"set\", \"led\", \"number\", \"3\", \"to\", \"high\"], [\"set\", \"led\", \"number\", \"16\", \"to\", \"low\"],\n",
        "              ['turn', 'on',  'led',  '3', 'and' ,'LED', '4'],['turn', 'off', 'LED', '5', 'to', 'LED', '8'],\n",
        "              ['turn', 'on', 'all', 'leds'], ['turn', 'off', 'all', 'leds'],\n",
        "              [\"set\", \"led\", \"number\", \"11\", \"to\", \"13\", \"on\"], [\"set\", \"led\", \"number\", \"3\", \"to\",\"6\", \"off\"]]\n",
        "target_data = [[0, 0, 0, 0, 0, 0, 1, 0, 0, 0, 0, 0, 0, 0, 0, 0, 0, 0, 0, 0, 0, 0, 0, 0, 0, 0, 0, 0, 0, 0, 0, 0], \n",
        "               [0, 0, 0, 0, 0, 0, 0, 0, 0, 0, 0, 0, 0, 0, 0, 0, 0, 0, 0, 0, 0, 0, 0, 0, 0, 0, 0, 0, 1, 0, 0, 0], \n",
        "               [0, 0, 1, 0, 0, 0, 0, 0, 0, 0, 0, 0, 0, 0, 0, 0, 0, 0, 0, 0, 0, 0, 0, 0, 0, 0, 0, 0, 0, 0, 0, 0], \n",
        "               [0, 0, 0, 0, 0, 0, 0, 0, 0, 0, 0, 0, 0, 0, 0, 0, 0, 0, 0, 0, 0, 0, 0, 0, 0, 0, 0, 0, 0, 0, 0, 1],\n",
        "               [0, 0, 1, 1, 0, 0, 0, 0, 0, 0, 0, 0, 0, 0, 0, 0, 0, 0, 0, 0, 0, 0, 0, 0, 0, 0, 0, 0, 0, 0, 0, 0],\n",
        "               [0, 0, 0, 0, 0, 0, 0, 0, 0, 0, 0, 0, 0, 0, 0, 0, 0, 0, 0, 0, 1, 1, 1, 1, 0, 0, 0, 0, 0, 0, 0, 0],\n",
        "               [1, 1, 1, 1, 1, 1, 1, 1, 1, 1, 1, 1, 1, 1, 1, 1, 1, 1, 1, 1, 1, 1, 1, 1, 1, 1, 1, 1, 1, 1, 1, 1],\n",
        "               [0, 0, 0, 0, 0, 0, 0, 0, 0, 0, 0, 0, 0, 0, 0, 0, 0, 0, 0, 0, 0, 0, 0, 0, 0, 0, 0, 0, 0, 0, 0, 0],\n",
        "               [0, 0, 0, 0, 0, 0, 0, 0, 0, 0, 1, 1, 1, 0, 0, 0, 0, 0, 0, 0, 0, 0, 0, 0, 0, 0, 0, 0, 0, 0, 0, 0],\n",
        "               [0, 0, 0, 0, 0, 0, 0, 0, 0, 0, 0, 0, 0, 0, 0, 0, 0, 0, 1, 1, 1, 1, 0, 0, 0, 0, 0, 0, 0, 0, 0, 0]               \n",
        "               ]\n",
        "\n",
        "freq = {}\n",
        "for sentence in input_data:\n",
        "  for word in sentence:\n",
        "    if word in freq:\n",
        "      freq[word] += 1\n",
        "    else:\n",
        "      freq[word] = 1\n",
        "\n",
        "word_to_index = {}\n",
        "for i in range (17):\n",
        "  word_to_index[str(i)] = i\n",
        "\n",
        "i = 17\n",
        "for word in freq:\n",
        "  if word.isdigit():\n",
        "    continue\n",
        "  word_to_index[word] = i\n",
        "  i += 1\n",
        "\n",
        "print(word_to_index)\n"
      ],
      "metadata": {
        "colab": {
          "base_uri": "https://localhost:8080/"
        },
        "id": "unzkskWZqy1o",
        "outputId": "c9718a33-4cd5-483d-9ffe-27fd2efadc94"
      },
      "execution_count": 66,
      "outputs": [
        {
          "output_type": "stream",
          "name": "stdout",
          "text": [
            "{'0': 0, '1': 1, '2': 2, '3': 3, '4': 4, '5': 5, '6': 6, '7': 7, '8': 8, '9': 9, '10': 10, '11': 11, '12': 12, '13': 13, '14': 14, '15': 15, '16': 16, 'turn': 17, 'on': 18, 'led': 19, 'number': 20, 'off': 21, 'set': 22, 'to': 23, 'high': 24, 'low': 25, 'and': 26, 'LED': 27, 'all': 28, 'leds': 29}\n"
          ]
        }
      ]
    },
    {
      "cell_type": "code",
      "source": [
        "for epoch in range(1000):\n",
        "    total_loss = 0\n",
        "    for example, target in zip(input_data, target_data):\n",
        "        optimizer.zero_grad()\n",
        "        input = torch.tensor([word_to_index[word] for word in example]+[0] *(input_size - len(example)), dtype=torch.float32)\n",
        "        output = model(input)\n",
        "        loss = criterion(output, torch.tensor(target, dtype=torch.float32))\n",
        "        loss.backward()\n",
        "        optimizer.step()\n",
        "        total_loss += loss.item()\n",
        "    if (epoch + 1) % 10 == 0:\n",
        "        print('Epoch [{}/100], Loss: {:.4f}'.format(epoch + 1, total_loss / len(input_data)))"
      ],
      "metadata": {
        "colab": {
          "base_uri": "https://localhost:8080/"
        },
        "id": "oMF_qZN0q0yU",
        "outputId": "b62f23d7-ce29-4dfe-b342-a6b4524fbbe2"
      },
      "execution_count": 86,
      "outputs": [
        {
          "output_type": "stream",
          "name": "stdout",
          "text": [
            "Epoch [10/100], Loss: 16.5673\n",
            "Epoch [20/100], Loss: 16.5670\n",
            "Epoch [30/100], Loss: 16.5668\n",
            "Epoch [40/100], Loss: 16.5666\n",
            "Epoch [50/100], Loss: 16.5665\n",
            "Epoch [60/100], Loss: 16.5664\n",
            "Epoch [70/100], Loss: 16.5664\n",
            "Epoch [80/100], Loss: 16.5663\n",
            "Epoch [90/100], Loss: 16.5663\n",
            "Epoch [100/100], Loss: 16.5663\n",
            "Epoch [110/100], Loss: 16.5663\n",
            "Epoch [120/100], Loss: 16.5663\n",
            "Epoch [130/100], Loss: 16.5663\n",
            "Epoch [140/100], Loss: 16.5663\n",
            "Epoch [150/100], Loss: 16.5663\n",
            "Epoch [160/100], Loss: 16.5663\n",
            "Epoch [170/100], Loss: 16.5663\n",
            "Epoch [180/100], Loss: 16.5663\n",
            "Epoch [190/100], Loss: 16.5663\n",
            "Epoch [200/100], Loss: 16.5663\n",
            "Epoch [210/100], Loss: 16.5663\n",
            "Epoch [220/100], Loss: 16.5663\n",
            "Epoch [230/100], Loss: 16.5663\n",
            "Epoch [240/100], Loss: 16.5663\n",
            "Epoch [250/100], Loss: 16.5663\n",
            "Epoch [260/100], Loss: 16.5663\n",
            "Epoch [270/100], Loss: 16.5663\n",
            "Epoch [280/100], Loss: 16.5663\n",
            "Epoch [290/100], Loss: 16.5663\n",
            "Epoch [300/100], Loss: 16.5663\n",
            "Epoch [310/100], Loss: 16.5663\n",
            "Epoch [320/100], Loss: 16.5663\n",
            "Epoch [330/100], Loss: 16.5663\n",
            "Epoch [340/100], Loss: 16.5663\n",
            "Epoch [350/100], Loss: 16.5663\n",
            "Epoch [360/100], Loss: 16.5663\n",
            "Epoch [370/100], Loss: 16.5663\n",
            "Epoch [380/100], Loss: 16.5663\n",
            "Epoch [390/100], Loss: 16.5663\n",
            "Epoch [400/100], Loss: 16.5663\n",
            "Epoch [410/100], Loss: 16.5663\n",
            "Epoch [420/100], Loss: 16.5663\n",
            "Epoch [430/100], Loss: 16.5663\n",
            "Epoch [440/100], Loss: 16.5663\n",
            "Epoch [450/100], Loss: 16.5663\n",
            "Epoch [460/100], Loss: 16.5663\n",
            "Epoch [470/100], Loss: 16.5663\n",
            "Epoch [480/100], Loss: 16.5663\n",
            "Epoch [490/100], Loss: 16.5663\n",
            "Epoch [500/100], Loss: 16.5663\n",
            "Epoch [510/100], Loss: 16.5663\n",
            "Epoch [520/100], Loss: 16.5663\n",
            "Epoch [530/100], Loss: 16.5663\n",
            "Epoch [540/100], Loss: 16.5663\n",
            "Epoch [550/100], Loss: 16.5663\n",
            "Epoch [560/100], Loss: 16.5663\n",
            "Epoch [570/100], Loss: 16.5663\n",
            "Epoch [580/100], Loss: 16.5663\n",
            "Epoch [590/100], Loss: 16.5663\n",
            "Epoch [600/100], Loss: 16.5663\n",
            "Epoch [610/100], Loss: 16.5663\n",
            "Epoch [620/100], Loss: 16.5663\n",
            "Epoch [630/100], Loss: 16.5663\n",
            "Epoch [640/100], Loss: 16.5663\n",
            "Epoch [650/100], Loss: 16.5663\n",
            "Epoch [660/100], Loss: 16.5663\n",
            "Epoch [670/100], Loss: 16.5663\n",
            "Epoch [680/100], Loss: 16.5663\n",
            "Epoch [690/100], Loss: 16.5663\n",
            "Epoch [700/100], Loss: 16.5663\n",
            "Epoch [710/100], Loss: 16.5663\n",
            "Epoch [720/100], Loss: 16.5663\n",
            "Epoch [730/100], Loss: 16.5663\n",
            "Epoch [740/100], Loss: 16.5663\n",
            "Epoch [750/100], Loss: 16.5663\n",
            "Epoch [760/100], Loss: 16.5663\n",
            "Epoch [770/100], Loss: 16.5663\n",
            "Epoch [780/100], Loss: 16.5663\n",
            "Epoch [790/100], Loss: 16.5663\n",
            "Epoch [800/100], Loss: 16.5663\n",
            "Epoch [810/100], Loss: 16.5663\n",
            "Epoch [820/100], Loss: 16.5663\n",
            "Epoch [830/100], Loss: 16.5663\n",
            "Epoch [840/100], Loss: 16.5663\n",
            "Epoch [850/100], Loss: 16.5663\n",
            "Epoch [860/100], Loss: 16.5663\n",
            "Epoch [870/100], Loss: 16.5663\n",
            "Epoch [880/100], Loss: 16.5663\n",
            "Epoch [890/100], Loss: 16.5663\n",
            "Epoch [900/100], Loss: 16.5663\n",
            "Epoch [910/100], Loss: 16.5663\n",
            "Epoch [920/100], Loss: 16.5663\n",
            "Epoch [930/100], Loss: 16.5663\n",
            "Epoch [940/100], Loss: 16.5663\n",
            "Epoch [950/100], Loss: 16.5663\n",
            "Epoch [960/100], Loss: 16.5663\n",
            "Epoch [970/100], Loss: 16.5663\n",
            "Epoch [980/100], Loss: 16.5663\n",
            "Epoch [990/100], Loss: 16.5663\n",
            "Epoch [1000/100], Loss: 16.5663\n"
          ]
        }
      ]
    },
    {
      "cell_type": "code",
      "source": [],
      "metadata": {
        "id": "Ov3-a9vjzLpb"
      },
      "execution_count": null,
      "outputs": []
    },
    {
      "cell_type": "code",
      "source": [],
      "metadata": {
        "id": "2Rqoim6GraWo"
      },
      "execution_count": null,
      "outputs": []
    }
  ]
}