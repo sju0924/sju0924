{
  "nbformat": 4,
  "nbformat_minor": 0,
  "metadata": {
    "colab": {
      "name": "2. CNN Classification_start.ipynb",
      "provenance": [],
      "collapsed_sections": [
        "ZImH97y5UdyB",
        "OE3KSkWtR8Hd",
        "LgFUpxfrV2Mc",
        "lhHyA1QHR31j",
        "KynQ55TtWHRB"
      ],
      "toc_visible": true
    },
    "kernelspec": {
      "name": "python3",
      "display_name": "Python 3"
    },
    "accelerator": "GPU"
  },
  "cells": [
    {
      "cell_type": "code",
      "metadata": {
        "id": "yC3xA3E5PaJK",
        "colab": {
          "base_uri": "https://localhost:8080/"
        },
        "outputId": "e3c5da98-4bf5-49c7-9275-c56fb7c79f3d"
      },
      "source": [
        "# TensorFlow and tf.keras\n",
        "import tensorflow as tf\n",
        "from tensorflow import keras\n",
        "\n",
        "# Helper libraries\n",
        "import numpy as np\n",
        "import matplotlib.pyplot as plt\n",
        "\n",
        "print(tf.__version__)"
      ],
      "execution_count": 1,
      "outputs": [
        {
          "output_type": "stream",
          "text": [
            "2.5.0\n"
          ],
          "name": "stdout"
        }
      ]
    },
    {
      "cell_type": "markdown",
      "metadata": {
        "id": "ZImH97y5UdyB"
      },
      "source": [
        "# 유틸"
      ]
    },
    {
      "cell_type": "code",
      "metadata": {
        "id": "d76JNjhjUa0b"
      },
      "source": [
        "def save_model(model_name: str, model: keras.models.Model):\n",
        "    model_json = model.to_json()\n",
        "    with open(model_name, \"w\") as json_file:\n",
        "        json_file.write(model_json)\n",
        "\n",
        "from keras.models import model_from_json\n",
        "from typing import Optional"
      ],
      "execution_count": 2,
      "outputs": []
    },
    {
      "cell_type": "code",
      "metadata": {
        "id": "7qub9KvNUhaD"
      },
      "source": [
        "def load_model(\n",
        "    model_name: str, with_weights_path: Optional[str] = None\n",
        ") -> keras.models.Model:\n",
        "    json_file = open(model_name, \"r\")\n",
        "    loaded_model_json = json_file.read()\n",
        "    json_file.close()\n",
        "    model = model_from_json(loaded_model_json)\n",
        "    if with_weights_path:\n",
        "        model.load_weights(with_weights_path)\n",
        "    return model"
      ],
      "execution_count": 3,
      "outputs": []
    },
    {
      "cell_type": "code",
      "metadata": {
        "id": "ITtEMAfmUjKY"
      },
      "source": [
        "import os\n",
        "base_gdrive_path = os.path.join(\"drive\", \"MyDrive\", \"deep learning example\")"
      ],
      "execution_count": 4,
      "outputs": []
    },
    {
      "cell_type": "code",
      "metadata": {
        "id": "KTKgRHEdHZzK"
      },
      "source": [
        "result_path = os.path.join(base_gdrive_path, \"results\")"
      ],
      "execution_count": 20,
      "outputs": []
    },
    {
      "cell_type": "markdown",
      "metadata": {
        "id": "mwH_QF0gPotU"
      },
      "source": [
        "# CNN Classification"
      ]
    },
    {
      "cell_type": "markdown",
      "metadata": {
        "id": "OE3KSkWtR8Hd"
      },
      "source": [
        "## Fashion MNIST"
      ]
    },
    {
      "cell_type": "code",
      "metadata": {
        "id": "A_wvheRPR97Y",
        "colab": {
          "base_uri": "https://localhost:8080/"
        },
        "outputId": "309413de-65b2-46d9-c215-3df136ce2314"
      },
      "source": [
        "fashion_mnist = keras.datasets.fashion_mnist\n",
        "\n",
        "(train_images, train_labels), (test_images, test_labels) = fashion_mnist.load_data()\n",
        "\n",
        "class_names = ['T-shirt/top', 'Trouser', 'Pullover', 'Dress', 'Coat',\n",
        "               'Sandal', 'Shirt', 'Sneaker', 'Bag', 'Ankle boot']\n",
        "\n",
        "train_images = train_images / 255.0\n",
        "test_images = test_images / 255.0               \n",
        "\n",
        "\n",
        "train_labels[:20]"
      ],
      "execution_count": 5,
      "outputs": [
        {
          "output_type": "stream",
          "text": [
            "Downloading data from https://storage.googleapis.com/tensorflow/tf-keras-datasets/train-labels-idx1-ubyte.gz\n",
            "32768/29515 [=================================] - 0s 0us/step\n",
            "Downloading data from https://storage.googleapis.com/tensorflow/tf-keras-datasets/train-images-idx3-ubyte.gz\n",
            "26427392/26421880 [==============================] - 0s 0us/step\n",
            "Downloading data from https://storage.googleapis.com/tensorflow/tf-keras-datasets/t10k-labels-idx1-ubyte.gz\n",
            "8192/5148 [===============================================] - 0s 0us/step\n",
            "Downloading data from https://storage.googleapis.com/tensorflow/tf-keras-datasets/t10k-images-idx3-ubyte.gz\n",
            "4423680/4422102 [==============================] - 0s 0us/step\n"
          ],
          "name": "stdout"
        },
        {
          "output_type": "execute_result",
          "data": {
            "text/plain": [
              "array([9, 0, 0, 3, 0, 2, 7, 2, 5, 5, 0, 9, 5, 5, 7, 9, 1, 0, 6, 4],\n",
              "      dtype=uint8)"
            ]
          },
          "metadata": {
            "tags": []
          },
          "execution_count": 5
        }
      ]
    },
    {
      "cell_type": "markdown",
      "metadata": {
        "id": "30BW3hNHRiJB"
      },
      "source": [
        "## 모델"
      ]
    },
    {
      "cell_type": "markdown",
      "metadata": {
        "id": "LgFUpxfrV2Mc"
      },
      "source": [
        "### 모델 생성"
      ]
    },
    {
      "cell_type": "code",
      "metadata": {
        "id": "rg6qEeDYPnTZ"
      },
      "source": [
        "def cnn_classification_model():\n",
        "  input = keras.layers.Input((28, 28, 1))\n",
        "  flatten = keras.layers.Flatten()(input)\n",
        "  dense_3 = keras.layers.Dense(10, activation='softmax')(flatten)\n",
        "\n",
        "  return keras.models.Model(inputs=[input], outputs=[dense_3])"
      ],
      "execution_count": 11,
      "outputs": []
    },
    {
      "cell_type": "code",
      "metadata": {
        "id": "qDciHxSKQ1zB",
        "colab": {
          "base_uri": "https://localhost:8080/"
        },
        "outputId": "54ea2cfa-ec76-422e-d29e-8ce57e42d348"
      },
      "source": [
        "model = cnn_classification_model()\n",
        "model.summary()"
      ],
      "execution_count": 12,
      "outputs": [
        {
          "output_type": "stream",
          "text": [
            "Model: \"model_2\"\n",
            "_________________________________________________________________\n",
            "Layer (type)                 Output Shape              Param #   \n",
            "=================================================================\n",
            "input_3 (InputLayer)         [(None, 28, 28, 1)]       0         \n",
            "_________________________________________________________________\n",
            "flatten_2 (Flatten)          (None, 784)               0         \n",
            "_________________________________________________________________\n",
            "dense_2 (Dense)              (None, 10)                7850      \n",
            "=================================================================\n",
            "Total params: 7,850\n",
            "Trainable params: 7,850\n",
            "Non-trainable params: 0\n",
            "_________________________________________________________________\n"
          ],
          "name": "stdout"
        }
      ]
    },
    {
      "cell_type": "code",
      "metadata": {
        "id": "9hisCvpIQ54e",
        "colab": {
          "base_uri": "https://localhost:8080/",
          "height": 459
        },
        "outputId": "be6fed26-04e2-4005-d71c-893a673609e0"
      },
      "source": [
        "from tensorflow.keras.utils import plot_model\n",
        "\n",
        "plot_model(model, show_shapes=True, to_file='model.png', expand_nested=True, dpi=144)"
      ],
      "execution_count": 13,
      "outputs": [
        {
          "output_type": "execute_result",
          "data": {
            "image/png": "[encoded data removed]",
            "text/plain": [
              "<IPython.core.display.Image object>"
            ]
          },
          "metadata": {
            "tags": []
          },
          "execution_count": 13
        }
      ]
    },
    {
      "cell_type": "markdown",
      "metadata": {
        "id": "lhHyA1QHR31j"
      },
      "source": [
        "### 모델 트레이닝"
      ]
    },
    {
      "cell_type": "code",
      "metadata": {
        "id": "AoDjQ2BERZm0"
      },
      "source": [
        "model.compile(optimizer=keras.optimizers.Adam(),\n",
        "              loss=tf.keras.losses.SparseCategoricalCrossentropy(),\n",
        "              metrics=['accuracy'])"
      ],
      "execution_count": 14,
      "outputs": []
    },
    {
      "cell_type": "code",
      "metadata": {
        "id": "5sNkcajBSMQn",
        "colab": {
          "base_uri": "https://localhost:8080/"
        },
        "outputId": "2dd44ce6-818a-4ed2-e922-aba140fda78d"
      },
      "source": [
        "BATCH_SIZE = 32\n",
        "num_train_examples = len(train_images)\n",
        "\n",
        "import math\n",
        "\n",
        "history = model.fit(train_images, train_labels, epochs=10, batch_size=BATCH_SIZE, steps_per_epoch=math.ceil(num_train_examples/BATCH_SIZE))"
      ],
      "execution_count": 15,
      "outputs": [
        {
          "output_type": "stream",
          "text": [
            "Epoch 1/10\n",
            "1875/1875 [==============================] - 6s 2ms/step - loss: 0.6047 - accuracy: 0.7952\n",
            "Epoch 2/10\n",
            "1875/1875 [==============================] - 3s 1ms/step - loss: 0.4621 - accuracy: 0.8418\n",
            "Epoch 3/10\n",
            "1875/1875 [==============================] - 3s 2ms/step - loss: 0.4357 - accuracy: 0.8510\n",
            "Epoch 4/10\n",
            "1875/1875 [==============================] - 3s 1ms/step - loss: 0.4231 - accuracy: 0.8535\n",
            "Epoch 5/10\n",
            "1875/1875 [==============================] - 3s 1ms/step - loss: 0.4139 - accuracy: 0.8567\n",
            "Epoch 6/10\n",
            "1875/1875 [==============================] - 3s 1ms/step - loss: 0.4072 - accuracy: 0.8584\n",
            "Epoch 7/10\n",
            "1875/1875 [==============================] - 3s 2ms/step - loss: 0.4019 - accuracy: 0.8605\n",
            "Epoch 8/10\n",
            "1875/1875 [==============================] - 3s 1ms/step - loss: 0.3990 - accuracy: 0.8618\n",
            "Epoch 9/10\n",
            "1875/1875 [==============================] - 3s 2ms/step - loss: 0.3945 - accuracy: 0.8641\n",
            "Epoch 10/10\n",
            "1875/1875 [==============================] - 3s 2ms/step - loss: 0.3913 - accuracy: 0.8635\n"
          ],
          "name": "stdout"
        }
      ]
    },
    {
      "cell_type": "code",
      "metadata": {
        "id": "r25N4lloSM_z",
        "colab": {
          "base_uri": "https://localhost:8080/",
          "height": 445
        },
        "outputId": "0d87a20b-29c1-4a64-cc04-d45ee23aae4b"
      },
      "source": [
        "history_accuracy = history.history[\"accuracy\"]\n",
        "\n",
        "epochs = range(1, len(history_accuracy) + 1)\n",
        "plt.plot(epochs, history_accuracy, \"bo\", label=\"Training accuracy\")\n",
        "history_accuracy"
      ],
      "execution_count": 16,
      "outputs": [
        {
          "output_type": "execute_result",
          "data": {
            "text/plain": [
              "[0.7952499985694885,\n",
              " 0.8417500257492065,\n",
              " 0.8510000109672546,\n",
              " 0.8535166382789612,\n",
              " 0.8567166924476624,\n",
              " 0.8583666682243347,\n",
              " 0.8605333566665649,\n",
              " 0.8618000149726868,\n",
              " 0.8640833497047424,\n",
              " 0.8634666800498962]"
            ]
          },
          "metadata": {
            "tags": []
          },
          "execution_count": 16
        },
        {
          "output_type": "display_data",
          "data": {
            "image/png": "[encoded data removed]",
            "text/plain": [
              "<Figure size 432x288 with 1 Axes>"
            ]
          },
          "metadata": {
            "tags": [],
            "needs_background": "light"
          }
        }
      ]
    },
    {
      "cell_type": "code",
      "metadata": {
        "id": "M5I9R645Swpz",
        "colab": {
          "base_uri": "https://localhost:8080/",
          "height": 445
        },
        "outputId": "369beb02-000a-4678-e8d6-558f106085cd"
      },
      "source": [
        "history_loss = history.history[\"loss\"]\n",
        "\n",
        "epochs = range(1, len(history_loss) + 1)\n",
        "plt.plot(epochs, history_loss, \"bo\", label=\"Training loss\")\n",
        "history_loss"
      ],
      "execution_count": 17,
      "outputs": [
        {
          "output_type": "execute_result",
          "data": {
            "text/plain": [
              "[0.6046981811523438,\n",
              " 0.4621127247810364,\n",
              " 0.43566617369651794,\n",
              " 0.42305788397789,\n",
              " 0.4138866662979126,\n",
              " 0.4071800708770752,\n",
              " 0.40191835165023804,\n",
              " 0.39899808168411255,\n",
              " 0.3945101201534271,\n",
              " 0.39128875732421875]"
            ]
          },
          "metadata": {
            "tags": []
          },
          "execution_count": 17
        },
        {
          "output_type": "display_data",
          "data": {
            "image/png": "[encoded data removed]",
            "text/plain": [
              "<Figure size 432x288 with 1 Axes>"
            ]
          },
          "metadata": {
            "tags": [],
            "needs_background": "light"
          }
        }
      ]
    },
    {
      "cell_type": "markdown",
      "metadata": {
        "id": "KynQ55TtWHRB"
      },
      "source": [
        "### 모델 테스트 및 예측"
      ]
    },
    {
      "cell_type": "code",
      "metadata": {
        "id": "f3FJG6XdS0CH",
        "colab": {
          "base_uri": "https://localhost:8080/"
        },
        "outputId": "a3164449-0792-42bd-dc70-85253a350982"
      },
      "source": [
        "test_loss, test_acc = model.evaluate(test_images,  test_labels, verbose=2)\n",
        "print('테스트 정확도:', test_acc)"
      ],
      "execution_count": 18,
      "outputs": [
        {
          "output_type": "stream",
          "text": [
            "313/313 - 0s - loss: 0.4494 - accuracy: 0.8425\n",
            "테스트 정확도: 0.8424999713897705\n"
          ],
          "name": "stdout"
        }
      ]
    },
    {
      "cell_type": "code",
      "metadata": {
        "id": "gOr-2PQ2VLr6"
      },
      "source": [
        "save_model(os.path.join(result_path, \"cnn_classification_model_000.json\"), model)\n",
        "\n",
        "import time\n",
        "# run_id: str = time.strftime(\"%Y%m%d-%H%M%S\")\n",
        "\n",
        "run_id: str = \"002\"\n",
        "weight_file_name: str = \"cnn_classification_model_000__{}.hdf5\".format(run_id)\n",
        "\n",
        "model.save_weights(os.path.join(result_path, weight_file_name))"
      ],
      "execution_count": 22,
      "outputs": []
    },
    {
      "cell_type": "code",
      "metadata": {
        "id": "gkyhFTZqVjzg",
        "colab": {
          "base_uri": "https://localhost:8080/"
        },
        "outputId": "b68898e0-08b6-4453-c661-7bbef929b6b5"
      },
      "source": [
        "# run_id: str = \"002\"\n",
        "# weight_file_name: str = \"cnn_classification_model_000__{}.hdf5\".format(run_id))\n",
        "\n",
        "json_model_path = os.path.join(result_path, \"cnn_classification_model_000.json\")\n",
        "model_weight_path = os.path.join(result_path, weight_file_name)\n",
        "loaded_model2_with_weight = load_model(json_model_path, model_weight_path)\n",
        "prediction_loaded_model2_with_weight = loaded_model2_with_weight.predict(test_images)\n",
        "\n",
        "print(\"예측: {}\".format(np.argmax(prediction_loaded_model2_with_weight[0])))\n",
        "print(prediction_loaded_model2_with_weight[0])\n",
        "print(\"정답 :{}\".format(test_labels[0]))"
      ],
      "execution_count": 23,
      "outputs": [
        {
          "output_type": "stream",
          "text": [
            "예측: 9\n",
            "[2.8850960e-07 2.8126308e-08 1.7293061e-05 7.2946791e-06 5.9323197e-06\n",
            " 1.6853465e-01 4.5348603e-05 8.6870432e-02 1.1969008e-02 7.3254973e-01]\n",
            "정답 :9\n"
          ],
          "name": "stdout"
        }
      ]
    },
    {
      "cell_type": "code",
      "metadata": {
        "id": "h8wGqUMEiPwT"
      },
      "source": [
        ""
      ],
      "execution_count": null,
      "outputs": []
    }
  ]
}