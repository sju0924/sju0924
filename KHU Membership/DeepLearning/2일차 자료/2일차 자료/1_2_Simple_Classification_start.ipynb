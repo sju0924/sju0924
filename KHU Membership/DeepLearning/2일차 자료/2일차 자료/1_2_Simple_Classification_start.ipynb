{
  "nbformat": 4,
  "nbformat_minor": 0,
  "metadata": {
    "colab": {
      "name": "1_2_Simple_Classification_start.ipynb",
      "provenance": [],
      "collapsed_sections": []
    },
    "kernelspec": {
      "name": "python3",
      "display_name": "Python 3"
    },
    "accelerator": "GPU"
  },
  "cells": [
    {
      "cell_type": "markdown",
      "metadata": {
        "id": "scbdJwFOkPP8"
      },
      "source": [
        "# 사전 준비"
      ]
    },
    {
      "cell_type": "markdown",
      "metadata": {
        "id": "huDrNytmkT7Q"
      },
      "source": [
        "## 구글 드라이브 마운트"
      ]
    },
    {
      "cell_type": "markdown",
      "metadata": {
        "id": "5BdDxxK4keD7"
      },
      "source": [
        "왼쪽에서, Google Drive 아이콘 클릭하여, Google Drive를 마운트 한 후, 다음 코드를 실행"
      ]
    },
    {
      "cell_type": "code",
      "metadata": {
        "id": "ZINfbK5ykRCL"
      },
      "source": [
        "import os\n",
        "base_gdrive_path = os.path.join(\"drive\", \"MyDrive\", \"deep learning example\")"
      ],
      "execution_count": 2,
      "outputs": []
    },
    {
      "cell_type": "markdown",
      "metadata": {
        "id": "O1Gar5c1kSYT"
      },
      "source": [
        "# Imports"
      ]
    },
    {
      "cell_type": "code",
      "metadata": {
        "id": "kQdZBkySQMWw",
        "colab": {
          "base_uri": "https://localhost:8080/"
        },
        "outputId": "6f426a79-c321-4fb4-caa9-e8dc284c65b4"
      },
      "source": [
        "# TensorFlow and tf.keras\n",
        "import tensorflow as tf\n",
        "from tensorflow import keras\n",
        "\n",
        "# Helper libraries\n",
        "import numpy as np\n",
        "import matplotlib.pyplot as plt\n",
        "\n",
        "print(tf.__version__)"
      ],
      "execution_count": 3,
      "outputs": [
        {
          "output_type": "stream",
          "text": [
            "2.5.0\n"
          ],
          "name": "stdout"
        }
      ]
    },
    {
      "cell_type": "markdown",
      "metadata": {
        "id": "Eu911fTqONsc"
      },
      "source": [
        "# Fashion MNIST"
      ]
    },
    {
      "cell_type": "markdown",
      "metadata": {
        "id": "MPL7G9PiOSLA"
      },
      "source": [
        "## 데이터 다운 및 분석"
      ]
    },
    {
      "cell_type": "code",
      "metadata": {
        "id": "1c45_ZlP8GEW",
        "colab": {
          "base_uri": "https://localhost:8080/"
        },
        "outputId": "80e6ffae-1a8a-4fa9-e3b5-d18851da49c6"
      },
      "source": [
        "fashion_mnist = keras.datasets.fashion_mnist\n",
        "\n",
        "(train_images, train_labels), (test_images, test_labels) = fashion_mnist.load_data()"
      ],
      "execution_count": 4,
      "outputs": [
        {
          "output_type": "stream",
          "text": [
            "Downloading data from https://storage.googleapis.com/tensorflow/tf-keras-datasets/train-labels-idx1-ubyte.gz\n",
            "32768/29515 [=================================] - 0s 0us/step\n",
            "Downloading data from https://storage.googleapis.com/tensorflow/tf-keras-datasets/train-images-idx3-ubyte.gz\n",
            "26427392/26421880 [==============================] - 0s 0us/step\n",
            "Downloading data from https://storage.googleapis.com/tensorflow/tf-keras-datasets/t10k-labels-idx1-ubyte.gz\n",
            "8192/5148 [===============================================] - 0s 0us/step\n",
            "Downloading data from https://storage.googleapis.com/tensorflow/tf-keras-datasets/t10k-images-idx3-ubyte.gz\n",
            "4423680/4422102 [==============================] - 0s 0us/step\n"
          ],
          "name": "stdout"
        }
      ]
    },
    {
      "cell_type": "code",
      "metadata": {
        "id": "z-FN98qW8OdF",
        "colab": {
          "base_uri": "https://localhost:8080/"
        },
        "outputId": "0d6d41ee-ca2d-49cf-af21-2699e95a2ef6"
      },
      "source": [
        "print(\"트레이닝 이미지 shape: {}, dtype: {}\".format(train_images.shape, train_images.dtype))\n",
        "print(\"트레이닝 라벨 shape: {}, dtype: {}\".format(train_labels.shape, train_labels.dtype))"
      ],
      "execution_count": 5,
      "outputs": [
        {
          "output_type": "stream",
          "text": [
            "트레이닝 이미지 shape: (60000, 28, 28), dtype: uint8\n",
            "트레이닝 라벨 shape: (60000,), dtype: uint8\n"
          ],
          "name": "stdout"
        }
      ]
    },
    {
      "cell_type": "code",
      "metadata": {
        "id": "HHwXv6A-8Tg_",
        "colab": {
          "base_uri": "https://localhost:8080/"
        },
        "outputId": "785b8bdb-9d06-4042-ad3b-b19e0085930b"
      },
      "source": [
        "print(\"테스트 이미지 shape: {}, dtype: {}\".format(test_images.shape, test_images.dtype))\n",
        "print(\"테스트 라벨 shape: {}, dtype: {}\".format(test_labels.shape, test_labels.dtype))"
      ],
      "execution_count": 6,
      "outputs": [
        {
          "output_type": "stream",
          "text": [
            "테스트 이미지 shape: (10000, 28, 28), dtype: uint8\n",
            "테스트 라벨 shape: (10000,), dtype: uint8\n"
          ],
          "name": "stdout"
        }
      ]
    },
    {
      "cell_type": "code",
      "metadata": {
        "id": "C56rPnlw8gcM"
      },
      "source": [
        "class_names = ['T-shirt/top', 'Trouser', 'Pullover', 'Dress', 'Coat',\n",
        "               'Sandal', 'Shirt', 'Sneaker', 'Bag', 'Ankle boot']"
      ],
      "execution_count": 7,
      "outputs": []
    },
    {
      "cell_type": "markdown",
      "metadata": {
        "id": "BW-iydsgQFqX"
      },
      "source": [
        "## 데이터 전처리"
      ]
    },
    {
      "cell_type": "markdown",
      "metadata": {
        "id": "WZQlKdEOQmiO"
      },
      "source": [
        "샘플 데이터 하나 살펴보기"
      ]
    },
    {
      "cell_type": "code",
      "metadata": {
        "id": "vYe_JTOGQCSk",
        "colab": {
          "base_uri": "https://localhost:8080/",
          "height": 265
        },
        "outputId": "cec7d6dc-43c0-4e2e-f69c-353a1fb70950"
      },
      "source": [
        "plt.figure()\n",
        "plt.imshow(train_images[0])\n",
        "plt.colorbar()\n",
        "plt.grid(False)\n",
        "plt.show()"
      ],
      "execution_count": 8,
      "outputs": [
        {
          "output_type": "display_data",
          "data": {
            "image/png": "[encoded data removed]",
            "text/plain": [
              "<Figure size 432x288 with 2 Axes>"
            ]
          },
          "metadata": {
            "tags": [],
            "needs_background": "light"
          }
        }
      ]
    },
    {
      "cell_type": "markdown",
      "metadata": {
        "id": "bDNl4o4MQh45"
      },
      "source": [
        "데이터를 비율로 변경. 트레이닝을 더 잘 시키기 위함"
      ]
    },
    {
      "cell_type": "code",
      "metadata": {
        "id": "3-Dw-WVhQa8Q"
      },
      "source": [
        "train_images = train_images / 255.0\n",
        "test_images = test_images / 255.0"
      ],
      "execution_count": 9,
      "outputs": []
    },
    {
      "cell_type": "markdown",
      "metadata": {
        "id": "FQ8s8z_-QoB0"
      },
      "source": [
        "binary cmap으로 트레이닝 이미지 여러 개 살펴보기"
      ]
    },
    {
      "cell_type": "code",
      "metadata": {
        "id": "nuZWRP9MQIr-",
        "colab": {
          "base_uri": "https://localhost:8080/",
          "height": 589
        },
        "outputId": "7e677dbf-43e2-437c-af65-c4be6c2bc11f"
      },
      "source": [
        "plt.figure(figsize=(10,10))\n",
        "for i in range(25):\n",
        "    plt.subplot(5,5,i+1)\n",
        "    plt.xticks([])\n",
        "    plt.yticks([])\n",
        "    plt.grid(False)\n",
        "    plt.imshow(train_images[i], cmap=plt.cm.binary)\n",
        "    plt.xlabel(class_names[train_labels[i]])\n",
        "plt.show()"
      ],
      "execution_count": 10,
      "outputs": [
        {
          "output_type": "display_data",
          "data": {
            "image/png": "[encoded data removed]",
            "text/plain": [
              "<Figure size 720x720 with 25 Axes>"
            ]
          },
          "metadata": {
            "tags": []
          }
        }
      ]
    },
    {
      "cell_type": "markdown",
      "metadata": {
        "id": "pRXprghyQ3Jt"
      },
      "source": [
        "## 모델"
      ]
    },
    {
      "cell_type": "markdown",
      "metadata": {
        "id": "xVppXs-5tnMe"
      },
      "source": [
        "### 모델 생성"
      ]
    },
    {
      "cell_type": "code",
      "metadata": {
        "id": "9kG8expOQcVv"
      },
      "source": [
        "def fashion_classification_model():\n",
        "  input = keras.layers.Input((28, 28))\n",
        "  flatten = keras.layers.Flatten()(input)\n",
        "  dense_2 = keras.layers.Dense(10)(flatten)\n",
        "  output = keras.layers.Softmax()(dense_2)\n",
        "\n",
        "  return keras.models.Model(inputs=[input], outputs=[output])"
      ],
      "execution_count": 11,
      "outputs": []
    },
    {
      "cell_type": "code",
      "metadata": {
        "id": "cVkepA4lRfdK",
        "colab": {
          "base_uri": "https://localhost:8080/"
        },
        "outputId": "3ceb6bbe-7f79-4b80-8ae5-c5f2105921dd"
      },
      "source": [
        "model = fashion_classification_model()\n",
        "model.summary()"
      ],
      "execution_count": 12,
      "outputs": [
        {
          "output_type": "stream",
          "text": [
            "Model: \"model\"\n",
            "_________________________________________________________________\n",
            "Layer (type)                 Output Shape              Param #   \n",
            "=================================================================\n",
            "input_1 (InputLayer)         [(None, 28, 28)]          0         \n",
            "_________________________________________________________________\n",
            "flatten (Flatten)            (None, 784)               0         \n",
            "_________________________________________________________________\n",
            "dense (Dense)                (None, 10)                7850      \n",
            "_________________________________________________________________\n",
            "softmax (Softmax)            (None, 10)                0         \n",
            "=================================================================\n",
            "Total params: 7,850\n",
            "Trainable params: 7,850\n",
            "Non-trainable params: 0\n",
            "_________________________________________________________________\n"
          ],
          "name": "stdout"
        }
      ]
    },
    {
      "cell_type": "markdown",
      "metadata": {
        "id": "3YmKyHCiV9N_"
      },
      "source": [
        "### 모델 트레이닝"
      ]
    },
    {
      "cell_type": "code",
      "metadata": {
        "id": "ZaoGqeOdSFCo"
      },
      "source": [
        "model.compile(optimizer=keras.optimizers.Adam(),\n",
        "              loss=tf.keras.losses.SparseCategoricalCrossentropy(),\n",
        "              metrics=[keras.metrics.SparseCategoricalAccuracy()])\n",
        "\n",
        "# 'accuracy'로 넣으면, 자동으로 다음 중 하나로 전환해서 측정합니다.\n",
        "# keras.metrics.BinaryAccuracy, keras.metrics.CategoricalAccuracy, keras.metrics.SparseCategoricalAccuracy"
      ],
      "execution_count": 13,
      "outputs": []
    },
    {
      "cell_type": "code",
      "metadata": {
        "id": "IyudHZhGSbJH",
        "colab": {
          "base_uri": "https://localhost:8080/"
        },
        "outputId": "b317addf-a71f-4af8-9b39-084d74bebb2a"
      },
      "source": [
        "history = model.fit(train_images, train_labels, epochs=10)"
      ],
      "execution_count": 14,
      "outputs": [
        {
          "output_type": "stream",
          "text": [
            "Epoch 1/10\n",
            "1875/1875 [==============================] - 6s 1ms/step - loss: 0.5987 - sparse_categorical_accuracy: 0.7974\n",
            "Epoch 2/10\n",
            "1875/1875 [==============================] - 3s 1ms/step - loss: 0.4616 - sparse_categorical_accuracy: 0.8417\n",
            "Epoch 3/10\n",
            "1875/1875 [==============================] - 3s 1ms/step - loss: 0.4354 - sparse_categorical_accuracy: 0.8504\n",
            "Epoch 4/10\n",
            "1875/1875 [==============================] - 3s 1ms/step - loss: 0.4215 - sparse_categorical_accuracy: 0.8548\n",
            "Epoch 5/10\n",
            "1875/1875 [==============================] - 3s 1ms/step - loss: 0.4139 - sparse_categorical_accuracy: 0.8567\n",
            "Epoch 6/10\n",
            "1875/1875 [==============================] - 3s 1ms/step - loss: 0.4065 - sparse_categorical_accuracy: 0.8603\n",
            "Epoch 7/10\n",
            "1875/1875 [==============================] - 3s 1ms/step - loss: 0.4027 - sparse_categorical_accuracy: 0.8600\n",
            "Epoch 8/10\n",
            "1875/1875 [==============================] - 3s 1ms/step - loss: 0.3982 - sparse_categorical_accuracy: 0.8623\n",
            "Epoch 9/10\n",
            "1875/1875 [==============================] - 3s 1ms/step - loss: 0.3944 - sparse_categorical_accuracy: 0.8636\n",
            "Epoch 10/10\n",
            "1875/1875 [==============================] - 3s 1ms/step - loss: 0.3927 - sparse_categorical_accuracy: 0.8642\n"
          ],
          "name": "stdout"
        }
      ]
    },
    {
      "cell_type": "code",
      "metadata": {
        "id": "s-IZVN-hSjwO",
        "colab": {
          "base_uri": "https://localhost:8080/",
          "height": 445
        },
        "outputId": "e12913c1-6372-4b05-a2ae-82a27828307d"
      },
      "source": [
        "history_accuracy = history.history[\"sparse_categorical_accuracy\"]\n",
        "\n",
        "epochs = range(1, len(history_accuracy) + 1)\n",
        "plt.plot(epochs, history_accuracy, \"bo\", label=\"Training accuracy\")\n",
        "history_accuracy"
      ],
      "execution_count": 15,
      "outputs": [
        {
          "output_type": "execute_result",
          "data": {
            "text/plain": [
              "[0.7973666787147522,\n",
              " 0.8416666388511658,\n",
              " 0.850350022315979,\n",
              " 0.8547666668891907,\n",
              " 0.8566666841506958,\n",
              " 0.8603166937828064,\n",
              " 0.8599833250045776,\n",
              " 0.862333357334137,\n",
              " 0.8635666370391846,\n",
              " 0.8641999959945679]"
            ]
          },
          "metadata": {
            "tags": []
          },
          "execution_count": 15
        },
        {
          "output_type": "display_data",
          "data": {
            "image/png": "[encoded data removed]",
            "text/plain": [
              "<Figure size 432x288 with 1 Axes>"
            ]
          },
          "metadata": {
            "tags": [],
            "needs_background": "light"
          }
        }
      ]
    },
    {
      "cell_type": "code",
      "metadata": {
        "id": "aZmbQvy-VMsK",
        "colab": {
          "base_uri": "https://localhost:8080/",
          "height": 445
        },
        "outputId": "a42dabb0-6929-42bd-ecd6-8335be56d541"
      },
      "source": [
        "history_loss = history.history[\"loss\"]\n",
        "\n",
        "epochs = range(1, len(history_loss) + 1)\n",
        "plt.plot(epochs, history_loss, \"bo\", label=\"Training loss\")\n",
        "history_loss"
      ],
      "execution_count": 16,
      "outputs": [
        {
          "output_type": "execute_result",
          "data": {
            "text/plain": [
              "[0.5987356901168823,\n",
              " 0.4616110920906067,\n",
              " 0.43543583154678345,\n",
              " 0.4215031862258911,\n",
              " 0.4139109253883362,\n",
              " 0.4064996838569641,\n",
              " 0.4027094841003418,\n",
              " 0.3982422649860382,\n",
              " 0.39438989758491516,\n",
              " 0.39269009232521057]"
            ]
          },
          "metadata": {
            "tags": []
          },
          "execution_count": 16
        },
        {
          "output_type": "display_data",
          "data": {
            "image/png": "[encoded data removed]",
            "text/plain": [
              "<Figure size 432x288 with 1 Axes>"
            ]
          },
          "metadata": {
            "tags": [],
            "needs_background": "light"
          }
        }
      ]
    },
    {
      "cell_type": "markdown",
      "metadata": {
        "id": "HYv029AQWNkk"
      },
      "source": [
        "### 모델 테스트"
      ]
    },
    {
      "cell_type": "code",
      "metadata": {
        "id": "G9Yqt5OxV20a",
        "colab": {
          "base_uri": "https://localhost:8080/"
        },
        "outputId": "fc0fb701-e935-4ad8-c650-8660b6d04057"
      },
      "source": [
        "test_loss, test_acc = model.evaluate(test_images,  test_labels, verbose=2)\n",
        "print('테스트 정확도:', test_acc)"
      ],
      "execution_count": 17,
      "outputs": [
        {
          "output_type": "stream",
          "text": [
            "313/313 - 0s - loss: 0.4457 - sparse_categorical_accuracy: 0.8459\n",
            "테스트 정확도: 0.8458999991416931\n"
          ],
          "name": "stdout"
        }
      ]
    },
    {
      "cell_type": "markdown",
      "metadata": {
        "id": "8W37RojTsbWi"
      },
      "source": [
        "### 모델 예측"
      ]
    },
    {
      "cell_type": "code",
      "metadata": {
        "id": "_XL0OYdLsbWj"
      },
      "source": [
        "predictions = model.predict(test_images)"
      ],
      "execution_count": 18,
      "outputs": []
    },
    {
      "cell_type": "code",
      "metadata": {
        "colab": {
          "base_uri": "https://localhost:8080/"
        },
        "id": "PL92Z2UhsbWj",
        "outputId": "c73e6aa2-7041-47ed-ccb1-76355581c636"
      },
      "source": [
        "predictions[0]"
      ],
      "execution_count": 19,
      "outputs": [
        {
          "output_type": "execute_result",
          "data": {
            "text/plain": [
              "array([7.4510092e-07, 2.2322276e-08, 1.4790760e-05, 7.6185479e-06,\n",
              "       8.7266653e-06, 1.7072172e-01, 5.0804880e-05, 3.8374815e-02,\n",
              "       6.5875319e-03, 7.8423315e-01], dtype=float32)"
            ]
          },
          "metadata": {
            "tags": []
          },
          "execution_count": 19
        }
      ]
    },
    {
      "cell_type": "code",
      "metadata": {
        "colab": {
          "base_uri": "https://localhost:8080/"
        },
        "id": "U0BzmcX0sbWj",
        "outputId": "ca4eb7c3-6e56-433e-8c7d-8870e722a705"
      },
      "source": [
        "np.argmax(predictions[0])"
      ],
      "execution_count": 20,
      "outputs": [
        {
          "output_type": "execute_result",
          "data": {
            "text/plain": [
              "9"
            ]
          },
          "metadata": {
            "tags": []
          },
          "execution_count": 20
        }
      ]
    },
    {
      "cell_type": "code",
      "metadata": {
        "colab": {
          "base_uri": "https://localhost:8080/"
        },
        "id": "uePg9yC6sbWj",
        "outputId": "95d760fb-3c79-4b43-c426-6b951d451699"
      },
      "source": [
        "test_labels[0]"
      ],
      "execution_count": 21,
      "outputs": [
        {
          "output_type": "execute_result",
          "data": {
            "text/plain": [
              "9"
            ]
          },
          "metadata": {
            "tags": []
          },
          "execution_count": 21
        }
      ]
    },
    {
      "cell_type": "markdown",
      "metadata": {
        "id": "FAF5IqyHsbWj"
      },
      "source": [
        "### 모델 예측 그리기"
      ]
    },
    {
      "cell_type": "code",
      "metadata": {
        "id": "SvmPZp6ysbWk"
      },
      "source": [
        "def plot_image(i, predictions_array, true_label, img):\n",
        "  true_label, img = true_label[i], img[i]\n",
        "  plt.grid(False)\n",
        "  plt.xticks([])\n",
        "  plt.yticks([])\n",
        "\n",
        "  plt.imshow(img, cmap=plt.cm.binary)\n",
        "\n",
        "  predicted_label = np.argmax(predictions_array)\n",
        "  if predicted_label == true_label:\n",
        "    color = 'blue'\n",
        "  else:\n",
        "    color = 'red'\n",
        "\n",
        "  plt.xlabel(\"{} {:2.0f}% ({})\".format(class_names[predicted_label],\n",
        "                                100*np.max(predictions_array),\n",
        "                                class_names[true_label]),\n",
        "                                color=color)\n",
        "\n",
        "def plot_value_array(i, predictions_array, true_label):\n",
        "  true_label = true_label[i]\n",
        "  plt.grid(False)\n",
        "  plt.xticks(range(10))\n",
        "  plt.yticks([])\n",
        "  thisplot = plt.bar(range(10), predictions_array, color=\"#777777\")\n",
        "  plt.ylim([0, 1])\n",
        "  predicted_label = np.argmax(predictions_array)\n",
        "\n",
        "  thisplot[predicted_label].set_color('red')\n",
        "  thisplot[true_label].set_color('blue')"
      ],
      "execution_count": 22,
      "outputs": []
    },
    {
      "cell_type": "code",
      "metadata": {
        "colab": {
          "base_uri": "https://localhost:8080/",
          "height": 211
        },
        "id": "7V5Lxc6ysbWk",
        "outputId": "3bd041f5-cabb-494e-f00c-a28a2d6a2888"
      },
      "source": [
        "i = 0\n",
        "plt.figure(figsize=(6,3))\n",
        "plt.subplot(1,2,1)\n",
        "plot_image(i, predictions[i], test_labels, test_images)\n",
        "plt.subplot(1,2,2)\n",
        "plot_value_array(i, predictions[i], test_labels)\n",
        "plt.show()"
      ],
      "execution_count": 23,
      "outputs": [
        {
          "output_type": "display_data",
          "data": {
            "image/png": "[encoded data removed]",
            "text/plain": [
              "<Figure size 432x216 with 2 Axes>"
            ]
          },
          "metadata": {
            "tags": [],
            "needs_background": "light"
          }
        }
      ]
    },
    {
      "cell_type": "code",
      "metadata": {
        "colab": {
          "base_uri": "https://localhost:8080/",
          "height": 211
        },
        "id": "uhc14nD7sbWk",
        "outputId": "ef6ca3d1-765f-46cc-8a84-206266bc5b96"
      },
      "source": [
        "i = 12\n",
        "plt.figure(figsize=(6,3))\n",
        "plt.subplot(1,2,1)\n",
        "plot_image(i, predictions[i], test_labels, test_images)\n",
        "plt.subplot(1,2,2)\n",
        "plot_value_array(i, predictions[i],  test_labels)\n",
        "plt.show()"
      ],
      "execution_count": 24,
      "outputs": [
        {
          "output_type": "display_data",
          "data": {
            "image/png": "[encoded data removed]",
            "text/plain": [
              "<Figure size 432x216 with 2 Axes>"
            ]
          },
          "metadata": {
            "tags": [],
            "needs_background": "light"
          }
        }
      ]
    },
    {
      "cell_type": "code",
      "metadata": {
        "colab": {
          "base_uri": "https://localhost:8080/",
          "height": 729
        },
        "id": "XAL7vdv6sbWk",
        "outputId": "81d77b0e-a7c8-4a58-cd5e-b7f12c315046"
      },
      "source": [
        "# Plot the first X test images, their predicted labels, and the true labels.\n",
        "# Color correct predictions in blue and incorrect predictions in red.\n",
        "num_rows = 5\n",
        "num_cols = 3\n",
        "num_images = num_rows*num_cols\n",
        "plt.figure(figsize=(2*2*num_cols, 2*num_rows))\n",
        "for i in range(num_images):\n",
        "  plt.subplot(num_rows, 2*num_cols, 2*i+1)\n",
        "  plot_image(i, predictions[i], test_labels, test_images)\n",
        "  plt.subplot(num_rows, 2*num_cols, 2*i+2)\n",
        "  plot_value_array(i, predictions[i], test_labels)\n",
        "plt.tight_layout()\n",
        "plt.show()"
      ],
      "execution_count": 25,
      "outputs": [
        {
          "output_type": "display_data",
          "data": {
            "image/png": "[encoded data removed]",
            "text/plain": [
              "<Figure size 864x720 with 30 Axes>"
            ]
          },
          "metadata": {
            "tags": [],
            "needs_background": "light"
          }
        }
      ]
    },
    {
      "cell_type": "markdown",
      "metadata": {
        "id": "UTTXbg7Elhq4"
      },
      "source": [
        "# 모델 저장, 가중치 저장 및 불러오기"
      ]
    },
    {
      "cell_type": "code",
      "metadata": {
        "id": "woApVqeEllj9"
      },
      "source": [
        "def save_model(model_name: str, model: keras.models.Model):\n",
        "    model_json = model.to_json()\n",
        "    with open(model_name, \"w\") as json_file:\n",
        "        json_file.write(model_json)"
      ],
      "execution_count": 26,
      "outputs": []
    },
    {
      "cell_type": "code",
      "metadata": {
        "id": "zQ87nI_wlvKR"
      },
      "source": [
        "from keras.models import model_from_json\n",
        "from typing import Optional\n",
        "\n",
        "def load_model(model_name: str, with_weights_path: Optional[str] = None) -> keras.models.Model:\n",
        "    json_file = open(model_name, \"r\")\n",
        "    loaded_model_json = json_file.read()\n",
        "    json_file.close()\n",
        "    model = model_from_json(loaded_model_json)\n",
        "    if with_weights_path:\n",
        "        model.load_weights(with_weights_path)\n",
        "    return model"
      ],
      "execution_count": 27,
      "outputs": []
    },
    {
      "cell_type": "code",
      "metadata": {
        "id": "LLSii1w7gTse"
      },
      "source": [
        "import os\n",
        "result_path = os.path.join(base_gdrive_path, \"results\")"
      ],
      "execution_count": 28,
      "outputs": []
    },
    {
      "cell_type": "code",
      "metadata": {
        "id": "AdQdbF3JmaR1"
      },
      "source": [
        "save_model(os.path.join(result_path, \"model_000.json\"), model)"
      ],
      "execution_count": 29,
      "outputs": []
    },
    {
      "cell_type": "code",
      "metadata": {
        "id": "J_yIkHTam7-3"
      },
      "source": [
        "import time\n",
        "# run_id: str = time.strftime(\"%Y%m%d-%H%M%S\")\n",
        "run_id: str = \"001\"\n",
        "\n",
        "model_weight_name: str = \"model_000__{}.hdf5\".format(run_id)\n",
        "model.save_weights(os.path.join(result_path, model_weight_name))"
      ],
      "execution_count": 30,
      "outputs": []
    },
    {
      "cell_type": "code",
      "metadata": {
        "id": "-7f1NOr7oIPZ",
        "colab": {
          "base_uri": "https://localhost:8080/"
        },
        "outputId": "b85f0f17-dd98-446b-b13e-f02b6546ffb5"
      },
      "source": [
        "loaded_model = load_model(os.path.join(result_path, \"model_000.json\"))\n",
        "prediction_loaded_model = loaded_model.predict(test_images)\n",
        "\n",
        "print(\"트레이닝한 모델의 예측: {}\".format(np.argmax(predictions[0])))\n",
        "print(predictions[0])\n",
        "print(\"불러온 모델의 예측: {}\".format(np.argmax(prediction_loaded_model[0])))\n",
        "print(prediction_loaded_model[0])\n",
        "print(\"정답 :{}\".format(test_labels[0]))"
      ],
      "execution_count": 31,
      "outputs": [
        {
          "output_type": "stream",
          "text": [
            "트레이닝한 모델의 예측: 9\n",
            "[7.4510092e-07 2.2322276e-08 1.4790760e-05 7.6185479e-06 8.7266653e-06\n",
            " 1.7072172e-01 5.0804880e-05 3.8374815e-02 6.5875319e-03 7.8423315e-01]\n",
            "불러온 모델의 예측: 9\n",
            "[0.06074427 0.10852673 0.11717048 0.11131275 0.08250098 0.07425094\n",
            " 0.09883036 0.05465979 0.1343946  0.15760905]\n",
            "정답 :9\n"
          ],
          "name": "stdout"
        }
      ]
    },
    {
      "cell_type": "code",
      "metadata": {
        "id": "mf1pC7hEom2I",
        "colab": {
          "base_uri": "https://localhost:8080/"
        },
        "outputId": "737e7a1a-dd03-4b5f-ebff-46d12462289d"
      },
      "source": [
        "# run_id: str = \"001\"\n",
        "\n",
        "# model_weight_name: str = \"model_000__{}.hdf5\".format(run_id)\n",
        "\n",
        "json_model_path = os.path.join(result_path, \"model_000.json\")\n",
        "model_weight_path = os.path.join(result_path, model_weight_name)\n",
        "loaded_model_with_weight = load_model(json_model_path, model_weight_path)\n",
        "prediction_loaded_model_with_weight = loaded_model_with_weight.predict(test_images)\n",
        "\n",
        "print(\"트레이닝한 모델의 예측: {}\".format(np.argmax(predictions[0])))\n",
        "print(predictions[0])\n",
        "print(\"가중치와 함께 불러온 모델의 예측: {}\".format(np.argmax(prediction_loaded_model_with_weight[0])))\n",
        "print(prediction_loaded_model_with_weight[0])\n",
        "print(\"정답 :{}\".format(test_labels[0]))"
      ],
      "execution_count": 32,
      "outputs": [
        {
          "output_type": "stream",
          "text": [
            "트레이닝한 모델의 예측: 9\n",
            "[7.4510092e-07 2.2322276e-08 1.4790760e-05 7.6185479e-06 8.7266653e-06\n",
            " 1.7072172e-01 5.0804880e-05 3.8374815e-02 6.5875319e-03 7.8423315e-01]\n",
            "가중치와 함께 불러온 모델의 예측: 9\n",
            "[7.4510092e-07 2.2322276e-08 1.4790760e-05 7.6185479e-06 8.7266653e-06\n",
            " 1.7072172e-01 5.0804880e-05 3.8374815e-02 6.5875319e-03 7.8423315e-01]\n",
            "정답 :9\n"
          ],
          "name": "stdout"
        }
      ]
    },
    {
      "cell_type": "code",
      "metadata": {
        "id": "h1AMWrKvpbcu"
      },
      "source": [
        ""
      ],
      "execution_count": 32,
      "outputs": []
    }
  ]
}