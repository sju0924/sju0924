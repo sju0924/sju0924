{
  "nbformat": 4,
  "nbformat_minor": 0,
  "metadata": {
    "colab": {
      "name": "1_2_Simple_Classification_complete.ipynb",
      "provenance": [],
      "collapsed_sections": []
    },
    "kernelspec": {
      "name": "python3",
      "display_name": "Python 3"
    },
    "accelerator": "GPU"
  },
  "cells": [
    {
      "cell_type": "markdown",
      "metadata": {
        "id": "scbdJwFOkPP8"
      },
      "source": [
        "# 사전 준비"
      ]
    },
    {
      "cell_type": "code",
      "metadata": {
        "colab": {
          "base_uri": "https://localhost:8080/"
        },
        "id": "n4YCkPTtKZMi",
        "outputId": "c86b6f05-8e62-4028-abd4-6300b3bdc2fe"
      },
      "source": [
        "from google.colab import drive\n",
        "drive.mount('/content/drive')"
      ],
      "execution_count": 1,
      "outputs": [
        {
          "output_type": "stream",
          "text": [
            "Mounted at /content/drive\n"
          ],
          "name": "stdout"
        }
      ]
    },
    {
      "cell_type": "markdown",
      "metadata": {
        "id": "huDrNytmkT7Q"
      },
      "source": [
        "## 구글 드라이브 마운트"
      ]
    },
    {
      "cell_type": "markdown",
      "metadata": {
        "id": "5BdDxxK4keD7"
      },
      "source": [
        "왼쪽에서, Google Drive 아이콘 클릭하여, Google Drive를 마운트 한 후, 다음 코드를 실행"
      ]
    },
    {
      "cell_type": "code",
      "metadata": {
        "id": "ZINfbK5ykRCL"
      },
      "source": [
        "import os\n",
        "base_gdrive_path = os.path.join(\"drive\", \"MyDrive\", \"deep learning example\")"
      ],
      "execution_count": 2,
      "outputs": []
    },
    {
      "cell_type": "markdown",
      "metadata": {
        "id": "O1Gar5c1kSYT"
      },
      "source": [
        "# Imports"
      ]
    },
    {
      "cell_type": "code",
      "metadata": {
        "id": "kQdZBkySQMWw",
        "colab": {
          "base_uri": "https://localhost:8080/"
        },
        "outputId": "efaf6393-09d0-4985-f3dd-8e3ff5a20306"
      },
      "source": [
        "# TensorFlow and tf.keras\n",
        "import tensorflow as tf\n",
        "from tensorflow import keras\n",
        "\n",
        "# Helper libraries\n",
        "import numpy as np\n",
        "import matplotlib.pyplot as plt\n",
        "\n",
        "print(tf.__version__)"
      ],
      "execution_count": 3,
      "outputs": [
        {
          "output_type": "stream",
          "text": [
            "2.5.0\n"
          ],
          "name": "stdout"
        }
      ]
    },
    {
      "cell_type": "markdown",
      "metadata": {
        "id": "Eu911fTqONsc"
      },
      "source": [
        "# Fashion MNIST"
      ]
    },
    {
      "cell_type": "markdown",
      "metadata": {
        "id": "MPL7G9PiOSLA"
      },
      "source": [
        "## 데이터 다운 및 분석"
      ]
    },
    {
      "cell_type": "code",
      "metadata": {
        "id": "1c45_ZlP8GEW",
        "colab": {
          "base_uri": "https://localhost:8080/"
        },
        "outputId": "7a7c7917-246c-4929-c9b2-f99b460a8a05"
      },
      "source": [
        "fashion_mnist = keras.datasets.fashion_mnist\n",
        "\n",
        "(train_images, train_labels), (test_images, test_labels) = fashion_mnist.load_data()"
      ],
      "execution_count": 4,
      "outputs": [
        {
          "output_type": "stream",
          "text": [
            "Downloading data from https://storage.googleapis.com/tensorflow/tf-keras-datasets/train-labels-idx1-ubyte.gz\n",
            "32768/29515 [=================================] - 0s 0us/step\n",
            "Downloading data from https://storage.googleapis.com/tensorflow/tf-keras-datasets/train-images-idx3-ubyte.gz\n",
            "26427392/26421880 [==============================] - 0s 0us/step\n",
            "Downloading data from https://storage.googleapis.com/tensorflow/tf-keras-datasets/t10k-labels-idx1-ubyte.gz\n",
            "8192/5148 [===============================================] - 0s 0us/step\n",
            "Downloading data from https://storage.googleapis.com/tensorflow/tf-keras-datasets/t10k-images-idx3-ubyte.gz\n",
            "4423680/4422102 [==============================] - 0s 0us/step\n"
          ],
          "name": "stdout"
        }
      ]
    },
    {
      "cell_type": "code",
      "metadata": {
        "id": "z-FN98qW8OdF",
        "colab": {
          "base_uri": "https://localhost:8080/"
        },
        "outputId": "65c6ab71-65c9-4736-d4f2-6a6c1e68450a"
      },
      "source": [
        "print(\"트레이닝 이미지 shape: {}, dtype: {}\".format(train_images.shape, train_images.dtype))\n",
        "print(\"트레이닝 라벨 shape: {}, dtype: {}\".format(train_labels.shape, train_labels.dtype))"
      ],
      "execution_count": 5,
      "outputs": [
        {
          "output_type": "stream",
          "text": [
            "트레이닝 이미지 shape: (60000, 28, 28), dtype: uint8\n",
            "트레이닝 라벨 shape: (60000,), dtype: uint8\n"
          ],
          "name": "stdout"
        }
      ]
    },
    {
      "cell_type": "code",
      "metadata": {
        "id": "HHwXv6A-8Tg_",
        "colab": {
          "base_uri": "https://localhost:8080/"
        },
        "outputId": "db01a63a-3ec8-45db-ad24-c07d6191d954"
      },
      "source": [
        "print(\"테스트 이미지 shape: {}, dtype: {}\".format(test_images.shape, test_images.dtype))\n",
        "print(\"테스트 라벨 shape: {}, dtype: {}\".format(test_labels.shape, test_labels.dtype))"
      ],
      "execution_count": 6,
      "outputs": [
        {
          "output_type": "stream",
          "text": [
            "테스트 이미지 shape: (10000, 28, 28), dtype: uint8\n",
            "테스트 라벨 shape: (10000,), dtype: uint8\n"
          ],
          "name": "stdout"
        }
      ]
    },
    {
      "cell_type": "code",
      "metadata": {
        "id": "C56rPnlw8gcM"
      },
      "source": [
        "class_names = ['T-shirt/top', 'Trouser', 'Pullover', 'Dress', 'Coat',\n",
        "               'Sandal', 'Shirt', 'Sneaker', 'Bag', 'Ankle boot']"
      ],
      "execution_count": 7,
      "outputs": []
    },
    {
      "cell_type": "markdown",
      "metadata": {
        "id": "BW-iydsgQFqX"
      },
      "source": [
        "## 데이터 전처리"
      ]
    },
    {
      "cell_type": "markdown",
      "metadata": {
        "id": "WZQlKdEOQmiO"
      },
      "source": [
        "샘플 데이터 하나 살펴보기"
      ]
    },
    {
      "cell_type": "code",
      "metadata": {
        "id": "vYe_JTOGQCSk",
        "colab": {
          "base_uri": "https://localhost:8080/",
          "height": 265
        },
        "outputId": "e7399552-a420-46ed-dccf-93e198984b2a"
      },
      "source": [
        "plt.figure()\n",
        "plt.imshow(train_images[0])\n",
        "plt.colorbar()\n",
        "plt.grid(False)\n",
        "plt.show()"
      ],
      "execution_count": 8,
      "outputs": [
        {
          "output_type": "display_data",
          "data": {
            "image/png": "[encoded data removed]",
            "text/plain": [
              "<Figure size 432x288 with 2 Axes>"
            ]
          },
          "metadata": {
            "tags": [],
            "needs_background": "light"
          }
        }
      ]
    },
    {
      "cell_type": "markdown",
      "metadata": {
        "id": "bDNl4o4MQh45"
      },
      "source": [
        "데이터를 비율로 변경. 트레이닝을 더 잘 시키기 위함"
      ]
    },
    {
      "cell_type": "code",
      "metadata": {
        "id": "3-Dw-WVhQa8Q"
      },
      "source": [
        "train_images = train_images / 255.0\n",
        "test_images = test_images / 255.0"
      ],
      "execution_count": 9,
      "outputs": []
    },
    {
      "cell_type": "markdown",
      "metadata": {
        "id": "FQ8s8z_-QoB0"
      },
      "source": [
        "binary cmap으로 트레이닝 이미지 여러 개 살펴보기"
      ]
    },
    {
      "cell_type": "code",
      "metadata": {
        "id": "nuZWRP9MQIr-",
        "colab": {
          "base_uri": "https://localhost:8080/",
          "height": 589
        },
        "outputId": "ce36154c-2f14-48c7-97dd-13aaaa123b56"
      },
      "source": [
        "plt.figure(figsize=(10,10))\n",
        "for i in range(25):\n",
        "    plt.subplot(5,5,i+1)\n",
        "    plt.xticks([])\n",
        "    plt.yticks([])\n",
        "    plt.grid(False)\n",
        "    plt.imshow(train_images[i], cmap=plt.cm.binary)\n",
        "    plt.xlabel(class_names[train_labels[i]])\n",
        "plt.show()"
      ],
      "execution_count": 10,
      "outputs": [
        {
          "output_type": "display_data",
          "data": {
            "image/png": "[encoded data removed]",
            "text/plain": [
              "<Figure size 720x720 with 25 Axes>"
            ]
          },
          "metadata": {
            "tags": []
          }
        }
      ]
    },
    {
      "cell_type": "markdown",
      "metadata": {
        "id": "pRXprghyQ3Jt"
      },
      "source": [
        "## 모델"
      ]
    },
    {
      "cell_type": "markdown",
      "metadata": {
        "id": "xVppXs-5tnMe"
      },
      "source": [
        "### 모델 생성"
      ]
    },
    {
      "cell_type": "code",
      "metadata": {
        "id": "9kG8expOQcVv"
      },
      "source": [
        "def fashion_classification_model():\n",
        "  input = keras.layers.Input((28, 28))\n",
        "  flatten = keras.layers.Flatten()(input)\n",
        "  dense_1 = keras.layers.Dense(128)(flatten)\n",
        "  dense_2 = keras.layers.Dense(10)(dense_1)\n",
        "  output = keras.layers.Softmax()(dense_2)\n",
        "\n",
        "  return keras.models.Model(inputs=[input], outputs=[output])"
      ],
      "execution_count": 11,
      "outputs": []
    },
    {
      "cell_type": "code",
      "metadata": {
        "id": "cVkepA4lRfdK",
        "colab": {
          "base_uri": "https://localhost:8080/"
        },
        "outputId": "598eb51d-ea00-4ad2-fe33-b6875f9eb158"
      },
      "source": [
        "model = fashion_classification_model()\n",
        "model.summary()"
      ],
      "execution_count": 12,
      "outputs": [
        {
          "output_type": "stream",
          "text": [
            "Model: \"model\"\n",
            "_________________________________________________________________\n",
            "Layer (type)                 Output Shape              Param #   \n",
            "=================================================================\n",
            "input_1 (InputLayer)         [(None, 28, 28)]          0         \n",
            "_________________________________________________________________\n",
            "flatten (Flatten)            (None, 784)               0         \n",
            "_________________________________________________________________\n",
            "dense (Dense)                (None, 128)               100480    \n",
            "_________________________________________________________________\n",
            "dense_1 (Dense)              (None, 10)                1290      \n",
            "_________________________________________________________________\n",
            "softmax (Softmax)            (None, 10)                0         \n",
            "=================================================================\n",
            "Total params: 101,770\n",
            "Trainable params: 101,770\n",
            "Non-trainable params: 0\n",
            "_________________________________________________________________\n"
          ],
          "name": "stdout"
        }
      ]
    },
    {
      "cell_type": "markdown",
      "metadata": {
        "id": "3YmKyHCiV9N_"
      },
      "source": [
        "### 모델 트레이닝"
      ]
    },
    {
      "cell_type": "code",
      "metadata": {
        "id": "ZaoGqeOdSFCo"
      },
      "source": [
        "model.compile(optimizer=keras.optimizers.Adam(),\n",
        "              loss=tf.keras.losses.SparseCategoricalCrossentropy(),\n",
        "              metrics=[keras.metrics.SparseCategoricalAccuracy()])\n",
        "\n",
        "# 'accuracy'로 넣으면, 자동으로 다음 중 하나로 전환해서 측정합니다.\n",
        "# keras.metrics.BinaryAccuracy, keras.metrics.CategoricalAccuracy, keras.metrics.SparseCategoricalAccuracy"
      ],
      "execution_count": 13,
      "outputs": []
    },
    {
      "cell_type": "code",
      "metadata": {
        "id": "IyudHZhGSbJH",
        "colab": {
          "base_uri": "https://localhost:8080/"
        },
        "outputId": "45590a30-8037-48f9-bf60-f4c0fef9c428"
      },
      "source": [
        "history = model.fit(train_images, train_labels, epochs=10)"
      ],
      "execution_count": 14,
      "outputs": [
        {
          "output_type": "stream",
          "text": [
            "Epoch 1/10\n",
            "1875/1875 [==============================] - 6s 2ms/step - loss: 0.5373 - sparse_categorical_accuracy: 0.8143\n",
            "Epoch 2/10\n",
            "1875/1875 [==============================] - 3s 2ms/step - loss: 0.4549 - sparse_categorical_accuracy: 0.8417\n",
            "Epoch 3/10\n",
            "1875/1875 [==============================] - 3s 2ms/step - loss: 0.4421 - sparse_categorical_accuracy: 0.8455\n",
            "Epoch 4/10\n",
            "1875/1875 [==============================] - 3s 2ms/step - loss: 0.4309 - sparse_categorical_accuracy: 0.8490\n",
            "Epoch 5/10\n",
            "1875/1875 [==============================] - 3s 2ms/step - loss: 0.4232 - sparse_categorical_accuracy: 0.8513\n",
            "Epoch 6/10\n",
            "1875/1875 [==============================] - 3s 2ms/step - loss: 0.4171 - sparse_categorical_accuracy: 0.8545\n",
            "Epoch 7/10\n",
            "1875/1875 [==============================] - 3s 2ms/step - loss: 0.4147 - sparse_categorical_accuracy: 0.8548\n",
            "Epoch 8/10\n",
            "1875/1875 [==============================] - 3s 2ms/step - loss: 0.4121 - sparse_categorical_accuracy: 0.8548\n",
            "Epoch 9/10\n",
            "1875/1875 [==============================] - 3s 2ms/step - loss: 0.4066 - sparse_categorical_accuracy: 0.8574\n",
            "Epoch 10/10\n",
            "1875/1875 [==============================] - 3s 2ms/step - loss: 0.4029 - sparse_categorical_accuracy: 0.8586\n"
          ],
          "name": "stdout"
        }
      ]
    },
    {
      "cell_type": "code",
      "metadata": {
        "id": "s-IZVN-hSjwO",
        "colab": {
          "base_uri": "https://localhost:8080/",
          "height": 446
        },
        "outputId": "5609c0d5-06af-48d2-b7a0-bcd83e9ed807"
      },
      "source": [
        "history_accuracy = history.history[\"sparse_categorical_accuracy\"]\n",
        "\n",
        "epochs = range(1, len(history_accuracy) + 1)\n",
        "plt.plot(epochs, history_accuracy, \"bo\", label=\"Training accuracy\")\n",
        "history_accuracy"
      ],
      "execution_count": 15,
      "outputs": [
        {
          "output_type": "execute_result",
          "data": {
            "text/plain": [
              "[0.8142833113670349,\n",
              " 0.84170001745224,\n",
              " 0.8454999923706055,\n",
              " 0.848966658115387,\n",
              " 0.8513333201408386,\n",
              " 0.854533314704895,\n",
              " 0.8547833561897278,\n",
              " 0.8547666668891907,\n",
              " 0.8574333190917969,\n",
              " 0.8586333394050598]"
            ]
          },
          "metadata": {
            "tags": []
          },
          "execution_count": 15
        },
        {
          "output_type": "display_data",
          "data": {
            "image/png": "[encoded data removed]",
            "text/plain": [
              "<Figure size 432x288 with 1 Axes>"
            ]
          },
          "metadata": {
            "tags": [],
            "needs_background": "light"
          }
        }
      ]
    },
    {
      "cell_type": "code",
      "metadata": {
        "id": "aZmbQvy-VMsK",
        "colab": {
          "base_uri": "https://localhost:8080/",
          "height": 445
        },
        "outputId": "784b8fd5-cb6b-4913-897d-307bc282896b"
      },
      "source": [
        "history_loss = history.history[\"loss\"]\n",
        "\n",
        "epochs = range(1, len(history_loss) + 1)\n",
        "plt.plot(epochs, history_loss, \"bo\", label=\"Training loss\")\n",
        "history_loss"
      ],
      "execution_count": 16,
      "outputs": [
        {
          "output_type": "execute_result",
          "data": {
            "text/plain": [
              "[0.5372759103775024,\n",
              " 0.45493975281715393,\n",
              " 0.4421432316303253,\n",
              " 0.43091416358947754,\n",
              " 0.4231940805912018,\n",
              " 0.4170597195625305,\n",
              " 0.4146922826766968,\n",
              " 0.4121417701244354,\n",
              " 0.4066079556941986,\n",
              " 0.4028747081756592]"
            ]
          },
          "metadata": {
            "tags": []
          },
          "execution_count": 16
        },
        {
          "output_type": "display_data",
          "data": {
            "image/png": "[encoded data removed]",
            "text/plain": [
              "<Figure size 432x288 with 1 Axes>"
            ]
          },
          "metadata": {
            "tags": [],
            "needs_background": "light"
          }
        }
      ]
    },
    {
      "cell_type": "markdown",
      "metadata": {
        "id": "HYv029AQWNkk"
      },
      "source": [
        "### 모델 테스트"
      ]
    },
    {
      "cell_type": "code",
      "metadata": {
        "id": "G9Yqt5OxV20a",
        "colab": {
          "base_uri": "https://localhost:8080/"
        },
        "outputId": "54aa0059-3011-423b-f5d2-a66b80502743"
      },
      "source": [
        "test_loss, test_acc = model.evaluate(test_images,  test_labels, verbose=2)\n",
        "print('테스트 정확도:', test_acc)"
      ],
      "execution_count": 17,
      "outputs": [
        {
          "output_type": "stream",
          "text": [
            "313/313 - 0s - loss: 0.4654 - sparse_categorical_accuracy: 0.8413\n",
            "테스트 정확도: 0.8413000106811523\n"
          ],
          "name": "stdout"
        }
      ]
    },
    {
      "cell_type": "markdown",
      "metadata": {
        "id": "8W37RojTsbWi"
      },
      "source": [
        "### 모델 예측"
      ]
    },
    {
      "cell_type": "code",
      "metadata": {
        "id": "_XL0OYdLsbWj"
      },
      "source": [
        "predictions = model.predict(test_images)"
      ],
      "execution_count": 18,
      "outputs": []
    },
    {
      "cell_type": "code",
      "metadata": {
        "colab": {
          "base_uri": "https://localhost:8080/"
        },
        "id": "PL92Z2UhsbWj",
        "outputId": "3e071ab0-c738-4b16-a0e4-6bb867367c8d"
      },
      "source": [
        "predictions[0]"
      ],
      "execution_count": 19,
      "outputs": [
        {
          "output_type": "execute_result",
          "data": {
            "text/plain": [
              "array([3.7459728e-07, 3.5608583e-08, 3.2540158e-06, 3.2787873e-06,\n",
              "       2.3443545e-06, 6.7486927e-02, 6.2192030e-06, 7.0568547e-02,\n",
              "       1.0668837e-03, 8.6086220e-01], dtype=float32)"
            ]
          },
          "metadata": {
            "tags": []
          },
          "execution_count": 19
        }
      ]
    },
    {
      "cell_type": "code",
      "metadata": {
        "colab": {
          "base_uri": "https://localhost:8080/"
        },
        "id": "U0BzmcX0sbWj",
        "outputId": "68cb4466-0212-4327-f94f-66612affbbc1"
      },
      "source": [
        "np.argmax(predictions[0])"
      ],
      "execution_count": 20,
      "outputs": [
        {
          "output_type": "execute_result",
          "data": {
            "text/plain": [
              "9"
            ]
          },
          "metadata": {
            "tags": []
          },
          "execution_count": 20
        }
      ]
    },
    {
      "cell_type": "code",
      "metadata": {
        "colab": {
          "base_uri": "https://localhost:8080/"
        },
        "id": "uePg9yC6sbWj",
        "outputId": "90850b9e-7aa3-4396-a08f-64a6b2341702"
      },
      "source": [
        "test_labels[0]"
      ],
      "execution_count": 21,
      "outputs": [
        {
          "output_type": "execute_result",
          "data": {
            "text/plain": [
              "9"
            ]
          },
          "metadata": {
            "tags": []
          },
          "execution_count": 21
        }
      ]
    },
    {
      "cell_type": "markdown",
      "metadata": {
        "id": "FAF5IqyHsbWj"
      },
      "source": [
        "### 모델 예측 그리기"
      ]
    },
    {
      "cell_type": "code",
      "metadata": {
        "id": "SvmPZp6ysbWk"
      },
      "source": [
        "def plot_image(i, predictions_array, true_label, img):\n",
        "  true_label, img = true_label[i], img[i]\n",
        "  plt.grid(False)\n",
        "  plt.xticks([])\n",
        "  plt.yticks([])\n",
        "\n",
        "  plt.imshow(img, cmap=plt.cm.binary)\n",
        "\n",
        "  predicted_label = np.argmax(predictions_array)\n",
        "  if predicted_label == true_label:\n",
        "    color = 'blue'\n",
        "  else:\n",
        "    color = 'red'\n",
        "\n",
        "  plt.xlabel(\"{} {:2.0f}% ({})\".format(class_names[predicted_label],\n",
        "                                100*np.max(predictions_array),\n",
        "                                class_names[true_label]),\n",
        "                                color=color)\n",
        "\n",
        "def plot_value_array(i, predictions_array, true_label):\n",
        "  true_label = true_label[i]\n",
        "  plt.grid(False)\n",
        "  plt.xticks(range(10))\n",
        "  plt.yticks([])\n",
        "  thisplot = plt.bar(range(10), predictions_array, color=\"#777777\")\n",
        "  plt.ylim([0, 1])\n",
        "  predicted_label = np.argmax(predictions_array)\n",
        "\n",
        "  thisplot[predicted_label].set_color('red')\n",
        "  thisplot[true_label].set_color('blue')"
      ],
      "execution_count": 22,
      "outputs": []
    },
    {
      "cell_type": "code",
      "metadata": {
        "colab": {
          "base_uri": "https://localhost:8080/",
          "height": 211
        },
        "id": "7V5Lxc6ysbWk",
        "outputId": "d56ba267-d5f3-4ab9-81bc-0a052e8d9b94"
      },
      "source": [
        "i = 0\n",
        "plt.figure(figsize=(6,3))\n",
        "plt.subplot(1,2,1)\n",
        "plot_image(i, predictions[i], test_labels, test_images)\n",
        "plt.subplot(1,2,2)\n",
        "plot_value_array(i, predictions[i], test_labels)\n",
        "plt.show()"
      ],
      "execution_count": 23,
      "outputs": [
        {
          "output_type": "display_data",
          "data": {
            "image/png": "[encoded data removed]",
            "text/plain": [
              "<Figure size 432x216 with 2 Axes>"
            ]
          },
          "metadata": {
            "tags": [],
            "needs_background": "light"
          }
        }
      ]
    },
    {
      "cell_type": "code",
      "metadata": {
        "colab": {
          "base_uri": "https://localhost:8080/",
          "height": 211
        },
        "id": "uhc14nD7sbWk",
        "outputId": "f0ee5c94-340d-44dc-8f93-065f0d4d1429"
      },
      "source": [
        "i = 12\n",
        "plt.figure(figsize=(6,3))\n",
        "plt.subplot(1,2,1)\n",
        "plot_image(i, predictions[i], test_labels, test_images)\n",
        "plt.subplot(1,2,2)\n",
        "plot_value_array(i, predictions[i],  test_labels)\n",
        "plt.show()"
      ],
      "execution_count": 24,
      "outputs": [
        {
          "output_type": "display_data",
          "data": {
            "image/png": "[encoded data removed]",
            "text/plain": [
              "<Figure size 432x216 with 2 Axes>"
            ]
          },
          "metadata": {
            "tags": [],
            "needs_background": "light"
          }
        }
      ]
    },
    {
      "cell_type": "code",
      "metadata": {
        "colab": {
          "base_uri": "https://localhost:8080/",
          "height": 729
        },
        "id": "XAL7vdv6sbWk",
        "outputId": "7c0f20a6-0b0a-4031-f729-ad6e5bb57ec5"
      },
      "source": [
        "# Plot the first X test images, their predicted labels, and the true labels.\n",
        "# Color correct predictions in blue and incorrect predictions in red.\n",
        "num_rows = 5\n",
        "num_cols = 3\n",
        "num_images = num_rows*num_cols\n",
        "plt.figure(figsize=(2*2*num_cols, 2*num_rows))\n",
        "for i in range(num_images):\n",
        "  plt.subplot(num_rows, 2*num_cols, 2*i+1)\n",
        "  plot_image(i, predictions[i], test_labels, test_images)\n",
        "  plt.subplot(num_rows, 2*num_cols, 2*i+2)\n",
        "  plot_value_array(i, predictions[i], test_labels)\n",
        "plt.tight_layout()\n",
        "plt.show()"
      ],
      "execution_count": 25,
      "outputs": [
        {
          "output_type": "display_data",
          "data": {
            "image/png": "[encoded data removed]",
            "text/plain": [
              "<Figure size 864x720 with 30 Axes>"
            ]
          },
          "metadata": {
            "tags": [],
            "needs_background": "light"
          }
        }
      ]
    },
    {
      "cell_type": "markdown",
      "metadata": {
        "id": "UTTXbg7Elhq4"
      },
      "source": [
        "# 모델 저장, 가중치 저장 및 불러오기"
      ]
    },
    {
      "cell_type": "code",
      "metadata": {
        "id": "woApVqeEllj9"
      },
      "source": [
        "def save_model(model_name: str, model: keras.models.Model):\n",
        "    model_json = model.to_json()\n",
        "    with open(model_name, \"w\") as json_file:\n",
        "        json_file.write(model_json)"
      ],
      "execution_count": 26,
      "outputs": []
    },
    {
      "cell_type": "code",
      "metadata": {
        "id": "zQ87nI_wlvKR"
      },
      "source": [
        "from keras.models import model_from_json\n",
        "from typing import Optional\n",
        "\n",
        "def load_model(model_name: str, with_weights_path: Optional[str] = None) -> keras.models.Model:\n",
        "    json_file = open(model_name, \"r\")\n",
        "    loaded_model_json = json_file.read()\n",
        "    json_file.close()\n",
        "    model = model_from_json(loaded_model_json)\n",
        "    if with_weights_path:\n",
        "        model.load_weights(with_weights_path)\n",
        "    return model"
      ],
      "execution_count": 27,
      "outputs": []
    },
    {
      "cell_type": "code",
      "metadata": {
        "id": "LLSii1w7gTse"
      },
      "source": [
        "import os\n",
        "result_path = os.path.join(base_gdrive_path, \"results\")"
      ],
      "execution_count": 28,
      "outputs": []
    },
    {
      "cell_type": "code",
      "metadata": {
        "id": "AdQdbF3JmaR1"
      },
      "source": [
        "save_model(os.path.join(result_path, \"model_000.json\"), model)"
      ],
      "execution_count": 29,
      "outputs": []
    },
    {
      "cell_type": "code",
      "metadata": {
        "id": "J_yIkHTam7-3"
      },
      "source": [
        "import time\n",
        "# run_id: str = time.strftime(\"%Y%m%d-%H%M%S\")\n",
        "run_id: str = \"001\"\n",
        "\n",
        "model_weight_name: str = \"model_000__{}.hdf5\".format(run_id)\n",
        "model.save_weights(os.path.join(result_path, model_weight_name))"
      ],
      "execution_count": 30,
      "outputs": []
    },
    {
      "cell_type": "code",
      "metadata": {
        "id": "-7f1NOr7oIPZ",
        "colab": {
          "base_uri": "https://localhost:8080/"
        },
        "outputId": "0d11fea0-f7c3-4e76-cd7e-d947f56f4cfd"
      },
      "source": [
        "loaded_model = load_model(os.path.join(result_path, \"model_000.json\"))\n",
        "prediction_loaded_model = loaded_model.predict(test_images)\n",
        "\n",
        "print(\"트레이닝한 모델의 예측: {}\".format(np.argmax(predictions[0])))\n",
        "print(predictions[0])\n",
        "print(\"불러온 모델의 예측: {}\".format(np.argmax(prediction_loaded_model[0])))\n",
        "print(prediction_loaded_model[0])\n",
        "print(\"정답 :{}\".format(test_labels[0]))"
      ],
      "execution_count": 31,
      "outputs": [
        {
          "output_type": "stream",
          "text": [
            "트레이닝한 모델의 예측: 9\n",
            "[3.7459728e-07 3.5608583e-08 3.2540158e-06 3.2787873e-06 2.3443545e-06\n",
            " 6.7486927e-02 6.2192030e-06 7.0568547e-02 1.0668837e-03 8.6086220e-01]\n",
            "불러온 모델의 예측: 7\n",
            "[0.10765179 0.04770323 0.10458507 0.04965353 0.06251756 0.11847956\n",
            " 0.11509293 0.18753085 0.08375477 0.12303071]\n",
            "정답 :9\n"
          ],
          "name": "stdout"
        }
      ]
    },
    {
      "cell_type": "code",
      "metadata": {
        "id": "mf1pC7hEom2I",
        "colab": {
          "base_uri": "https://localhost:8080/"
        },
        "outputId": "a637f908-4944-4a7d-a87d-612bae53a0be"
      },
      "source": [
        "# run_id: str = \"001\"\n",
        "\n",
        "# model_weight_name: str = \"model_000__{}.hdf5\".format(run_id)\n",
        "\n",
        "json_model_path = os.path.join(result_path, \"model_000.json\")\n",
        "model_weight_path = os.path.join(result_path, model_weight_name)\n",
        "loaded_model_with_weight = load_model(json_model_path, model_weight_path)\n",
        "prediction_loaded_model_with_weight = loaded_model_with_weight.predict(test_images)\n",
        "\n",
        "print(\"트레이닝한 모델의 예측: {}\".format(np.argmax(predictions[0])))\n",
        "print(predictions[0])\n",
        "print(\"가중치와 함께 불러온 모델의 예측: {}\".format(np.argmax(prediction_loaded_model_with_weight[0])))\n",
        "print(prediction_loaded_model_with_weight[0])\n",
        "print(\"정답 :{}\".format(test_labels[0]))"
      ],
      "execution_count": 32,
      "outputs": [
        {
          "output_type": "stream",
          "text": [
            "트레이닝한 모델의 예측: 9\n",
            "[3.7459728e-07 3.5608583e-08 3.2540158e-06 3.2787873e-06 2.3443545e-06\n",
            " 6.7486927e-02 6.2192030e-06 7.0568547e-02 1.0668837e-03 8.6086220e-01]\n",
            "가중치와 함께 불러온 모델의 예측: 9\n",
            "[3.7459728e-07 3.5608583e-08 3.2540158e-06 3.2787873e-06 2.3443545e-06\n",
            " 6.7486927e-02 6.2192030e-06 7.0568547e-02 1.0668837e-03 8.6086220e-01]\n",
            "정답 :9\n"
          ],
          "name": "stdout"
        }
      ]
    },
    {
      "cell_type": "code",
      "metadata": {
        "id": "h1AMWrKvpbcu"
      },
      "source": [
        ""
      ],
      "execution_count": 32,
      "outputs": []
    }
  ]
}